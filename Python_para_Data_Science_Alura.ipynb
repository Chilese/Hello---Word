{
  "nbformat": 4,
  "nbformat_minor": 0,
  "metadata": {
    "colab": {
      "name": "Python para Data Science -  Alura",
      "provenance": [],
      "collapsed_sections": [],
      "authorship_tag": "ABX9TyPubvhv/pqqc6awnU6sIKQg",
      "include_colab_link": true
    },
    "kernelspec": {
      "name": "python3",
      "display_name": "Python 3"
    }
  },
  "cells": [
    {
      "cell_type": "markdown",
      "metadata": {
        "id": "view-in-github",
        "colab_type": "text"
      },
      "source": [
        "<a href=\"https://colab.research.google.com/github/Chilese/Hello-Word/blob/main/Python_para_Data_Science_Alura.ipynb\" target=\"_parent\"><img src=\"https://colab.research.google.com/assets/colab-badge.svg\" alt=\"Open In Colab\"/></a>"
      ]
    },
    {
      "cell_type": "markdown",
      "metadata": {
        "id": "oxPE_416wgiE"
      },
      "source": [
        "# **Breve história da linguagem**\r\n",
        "\r\n",
        "Python foi criada em 1990 por Guido Van Rossum no Centro de Matemática Stichting na Holanda como uma sucessora da linguagem ABC. Guido é lembrado como o principal autor de Python mas outros programadores ajudaram com muitas contribuições.\r\n",
        "\r\n",
        "A linguagem ABC foi desenhada para uso de não programadores, mas logo de início mostrou certas limitações e restrições. A maior reclamação dos primeiros alunos não programadores dessa linguagem era a presença de regras arbitrárias que as linguagens de programação haviam estabelecido tradicionalmente - muita coisa de baixo nível ainda era feita e não agradou o público.\r\n",
        "\r\n",
        "Guido então se lançou na tarefa de criar uma linguagem de script simples que possuísse algumas das melhores propriedades da ABC. Listas Python, dicionários, declarações básicas e uso obrigatório de indentação - conceitos que aprenderemos neste curso - diferenciam Python da linguagem ABC.\r\n",
        "\r\n",
        "Você provavelmente já ouviu ou leu em algum lugar que Python é uma linguagem interpretada ou uma linguagem de script. Em certo sentido, também é verdade que Python é tanto uma linguagem interpretada quanto uma linguagem compilada. Um compilador traduz linguagem Python em linguagem de máquina - código Python é traduzido em um código intermediário que deve ser executado por uma máquina virtual conhecida como PVM (Python Virtual Machine).\r\n",
        "\r\n",
        "O interpretador faz esta 'tradução' em tempo real para código de máquina, ou seja, em tempo de execução. Já o compilador traduz o programa inteiro em código de máquina de uma só vez e então o executa, criando um arquivo que pode ser rodado (executável). O compilador gera um relatório de erros (casos eles existam) e o interpretador interrompe a tradução quando encontra um primeiro erro."
      ]
    },
    {
      "cell_type": "markdown",
      "metadata": {
        "id": "kYCzacJTwqkf"
      },
      "source": [
        "**Variável e Função**"
      ]
    },
    {
      "cell_type": "code",
      "metadata": {
        "colab": {
          "base_uri": "https://localhost:8080/",
          "height": 35
        },
        "id": "fKUsVGGNo79j",
        "outputId": "484bdc7b-c9f2-4574-853a-995231a7eea4"
      },
      "source": [
        "#Quando eu quero armazenar um a informação na memória do computador, eu o faço usando uma variável. \r\n",
        "nome =  'Rafael'\r\n",
        "idade =  '25'\r\n",
        "#Há um registro na memória que confirma, o conteúdo de nome é 'Rafael'. \r\n",
        "nome"
      ],
      "execution_count": null,
      "outputs": [
        {
          "output_type": "execute_result",
          "data": {
            "application/vnd.google.colaboratory.intrinsic+json": {
              "type": "string"
            },
            "text/plain": [
              "'Rafael'"
            ]
          },
          "metadata": {
            "tags": []
          },
          "execution_count": 1
        }
      ]
    },
    {
      "cell_type": "code",
      "metadata": {
        "colab": {
          "base_uri": "https://localhost:8080/"
        },
        "id": "l6vGIGgHq6Ig",
        "outputId": "d267d55f-5a3a-4cd7-b255-4c1dd26e3e01"
      },
      "source": [
        "#É possível retornar essas variáveis através de função. \r\n",
        "print(f'Meu é {nome} e minha idade é {idade} anos!')"
      ],
      "execution_count": null,
      "outputs": [
        {
          "output_type": "stream",
          "text": [
            "Meu é Rafael e minha idade é 25 anos!\n"
          ],
          "name": "stdout"
        }
      ]
    },
    {
      "cell_type": "code",
      "metadata": {
        "colab": {
          "base_uri": "https://localhost:8080/"
        },
        "id": "dfmN5HXzrzRf",
        "outputId": "c2f8d92a-4344-476d-b988-0033c836c7d9"
      },
      "source": [
        "#Usando def é possível criar uma função. \r\n",
        "def saudacao():\r\n",
        "  nome = input('Qual é o seu nome? ')\r\n",
        "  print(f'Olá, {nome}!')\r\n",
        "\r\n",
        "saudacao()"
      ],
      "execution_count": null,
      "outputs": [
        {
          "output_type": "stream",
          "text": [
            "Qual é o seu nome? \n",
            "Olá, !\n"
          ],
          "name": "stdout"
        }
      ]
    },
    {
      "cell_type": "code",
      "metadata": {
        "colab": {
          "base_uri": "https://localhost:8080/"
        },
        "id": "aUYd_fJav_xN",
        "outputId": "67a4331c-a0d4-466f-838b-c40b42fd6c5f"
      },
      "source": [
        "def nome_completo():\r\n",
        " primeiro_nome = input('Qual seu primeiro nome? ')\r\n",
        " sobrenome = input('Qual seu sobrenome? ')\r\n",
        " nome_inteiro = primeiro_nome + ' ' + sobrenome\r\n",
        " print(nome_inteiro)\r\n",
        "\r\n",
        "nome_completo()"
      ],
      "execution_count": null,
      "outputs": [
        {
          "output_type": "stream",
          "text": [
            "Qual seu primeiro nome? \n",
            "Qual seu sobrenome? \n",
            " \n"
          ],
          "name": "stdout"
        }
      ]
    },
    {
      "cell_type": "markdown",
      "metadata": {
        "id": "xgpvkP4HwzSX"
      },
      "source": [
        "**Linguagem de auto nível**\r\n",
        "\r\n",
        "Python é considerada uma linguagem de auto nível por conta da sua próximidade com a linguagem humana. A sintaxe desse tipo de linguagem é muito próxima da sintaxe da lingua de quem a programou. \r\n",
        "\r\n",
        "Por outro lado, se perde em desempenho, uma vez que a linguagem é interpretada. Entre aquilo que o programador declara e o que é printado em tela, há a interpretação da máquina. "
      ]
    },
    {
      "cell_type": "markdown",
      "metadata": {
        "id": "KSCFC3K34M5_"
      },
      "source": [
        "**Parâmetros e Conversão de tipos**"
      ]
    },
    {
      "cell_type": "code",
      "metadata": {
        "colab": {
          "base_uri": "https://localhost:8080/"
        },
        "id": "t9IJwbKewCvg",
        "outputId": "8bdaf36d-e19d-4d77-ed1c-a3f8ec178336"
      },
      "source": [
        "# Há a possibilidade de se contruir funções com parametros: \r\n",
        "\r\n",
        "def saudacao_com_parametro(nome_da_pessoa):\r\n",
        "  print(f'Olá, {nome_da_pessoa} !')\r\n",
        "\r\n",
        "saudacao_com_parametro(nome) # A função exige o \"nome_da_pessoa\". "
      ],
      "execution_count": null,
      "outputs": [
        {
          "output_type": "stream",
          "text": [
            "Olá, Rafael !\n"
          ],
          "name": "stdout"
        }
      ]
    },
    {
      "cell_type": "code",
      "metadata": {
        "colab": {
          "base_uri": "https://localhost:8080/"
        },
        "id": "IlZSJv2YyIDT",
        "outputId": "57f3f204-5cfb-425e-c59b-3440c0829185"
      },
      "source": [
        "# Há também a possibilidade de se construir condicionais nessas funções: \r\n",
        "idade = 20\r\n",
        "\r\n",
        "def verifica_se_pode_dirigir(idade):\r\n",
        "  if idade >= 18:\r\n",
        "    print ('Tem permissão para dirigir!')\r\n",
        "  else:\r\n",
        "    print ('Você não tem idade para dirigir!')\r\n",
        "\r\n",
        "verifica_se_pode_dirigir(idade)\r\n"
      ],
      "execution_count": null,
      "outputs": [
        {
          "output_type": "stream",
          "text": [
            "Tem permissão para dirigir!\n"
          ],
          "name": "stdout"
        }
      ]
    },
    {
      "cell_type": "code",
      "metadata": {
        "colab": {
          "base_uri": "https://localhost:8080/"
        },
        "id": "VxSbSqI50GBt",
        "outputId": "39185130-0514-486c-aa5e-df6ec8eb39d3"
      },
      "source": [
        "# Construir condicionais sem os parametros. \r\n",
        "\r\n",
        "def verifica_se_pode_dirigir_sem( ):\r\n",
        "  idade = input('Qual a sua idade? ')\r\n",
        "  idade = int(idade) # Há a necessidade de garantir que o valor será declarado como int e não como str. \r\n",
        "\r\n",
        "  if idade >= 18:\r\n",
        "    print ('Tem permissão para dirigir!')\r\n",
        "  else:\r\n",
        "    print ('Você não tem idade para dirigir!')\r\n",
        "\r\n",
        "verifica_se_pode_dirigir_sem()"
      ],
      "execution_count": null,
      "outputs": [
        {
          "output_type": "stream",
          "text": [
            "Qual a sua idade? 18\n",
            "Tem permissão para dirigir!\n"
          ],
          "name": "stdout"
        }
      ]
    },
    {
      "cell_type": "markdown",
      "metadata": {
        "id": "G-5cJg8K4eCw"
      },
      "source": [
        "**Listas, Repetições e Tipos Boleanos**"
      ]
    },
    {
      "cell_type": "code",
      "metadata": {
        "colab": {
          "base_uri": "https://localhost:8080/"
        },
        "id": "K4dgqPlT1QWU",
        "outputId": "f0b69089-5cf5-4761-8ddf-6bb3c6e1a8ec"
      },
      "source": [
        "lista_nome = ['Rafael', 'Antonio', 'Chilese']\r\n",
        "type(lista_nome) # Passa a palavra reservada na função type e confirma. "
      ],
      "execution_count": null,
      "outputs": [
        {
          "output_type": "execute_result",
          "data": {
            "text/plain": [
              "list"
            ]
          },
          "metadata": {
            "tags": []
          },
          "execution_count": 8
        }
      ]
    },
    {
      "cell_type": "code",
      "metadata": {
        "colab": {
          "base_uri": "https://localhost:8080/",
          "height": 35
        },
        "id": "4-jRyIg95qi3",
        "outputId": "adec12fc-9233-4562-eceb-1eb1c1f1532c"
      },
      "source": [
        "# Para chamar um valor na lista, declaro seu indice. \r\n",
        "# Em Python, os valores são indexados a partir de 0. \r\n",
        "\r\n",
        "# Para retornar meu sobrenome: \r\n",
        "lista_nome[2]"
      ],
      "execution_count": null,
      "outputs": [
        {
          "output_type": "execute_result",
          "data": {
            "application/vnd.google.colaboratory.intrinsic+json": {
              "type": "string"
            },
            "text/plain": [
              "'Chilese'"
            ]
          },
          "metadata": {
            "tags": []
          },
          "execution_count": 9
        }
      ]
    },
    {
      "cell_type": "code",
      "metadata": {
        "id": "atDrU9Dh6QRV"
      },
      "source": [
        "idades = [18, 22, 15, 50]"
      ],
      "execution_count": null,
      "outputs": []
    },
    {
      "cell_type": "code",
      "metadata": {
        "colab": {
          "base_uri": "https://localhost:8080/"
        },
        "id": "DSWD90TVGQFZ",
        "outputId": "3dfc1cb5-ec18-4405-f753-d9f52550d17f"
      },
      "source": [
        "#Tipos boleanos.\r\n",
        "# Uso do for fora da função.\r\n",
        "\r\n",
        "def verifica_se_pode_dirigir(idade):\r\n",
        "  if idade >= 18:\r\n",
        "    print (f'{idade} anos de idade, TEM permissão para dirigir!')\r\n",
        "  else:\r\n",
        "    print (f'{idade} anos de idade, NÃO TEM permissão para dirigir!')\r\n",
        "\r\n",
        "for idade in idades:\r\n",
        "  verifica_se_pode_dirigir(idade)"
      ],
      "execution_count": null,
      "outputs": [
        {
          "output_type": "stream",
          "text": [
            "18 anos de idade, TEM permissão para dirigir!\n",
            "22 anos de idade, TEM permissão para dirigir!\n",
            "15 anos de idade, NÃO TEM permissão para dirigir!\n",
            "50 anos de idade, TEM permissão para dirigir!\n"
          ],
          "name": "stdout"
        }
      ]
    },
    {
      "cell_type": "code",
      "metadata": {
        "colab": {
          "base_uri": "https://localhost:8080/"
        },
        "id": "5DlWCfMeHNBI",
        "outputId": "83b783d8-6d8a-472d-ead3-ae25140756b2"
      },
      "source": [
        "# Uso do for dentro da função.\r\n",
        "\r\n",
        "def verifica_se_pode_dirigir(idades):\r\n",
        "  for idade in idades: \r\n",
        "    if idade >= 18:\r\n",
        "      print (f'{idade} anos de idade, TEM permissão para dirigir!')\r\n",
        "    else:\r\n",
        "      print (f'{idade} anos de idade, NÃO TEM permissão para dirigir!')\r\n",
        "verifica_se_pode_dirigir(idades)"
      ],
      "execution_count": null,
      "outputs": [
        {
          "output_type": "stream",
          "text": [
            "18 anos de idade, TEM permissão para dirigir!\n",
            "22 anos de idade, TEM permissão para dirigir!\n",
            "15 anos de idade, NÃO TEM permissão para dirigir!\n",
            "50 anos de idade, TEM permissão para dirigir!\n"
          ],
          "name": "stdout"
        }
      ]
    },
    {
      "cell_type": "code",
      "metadata": {
        "colab": {
          "base_uri": "https://localhost:8080/"
        },
        "id": "3ZXDAJdcH5bD",
        "outputId": "27b4d65c-ee49-425a-c271-ee8409267e51"
      },
      "source": [
        "# Tipo boleano. \r\n",
        "\r\n",
        "idade = 18\r\n",
        "idade >= 18"
      ],
      "execution_count": null,
      "outputs": [
        {
          "output_type": "execute_result",
          "data": {
            "text/plain": [
              "True"
            ]
          },
          "metadata": {
            "tags": []
          },
          "execution_count": 15
        }
      ]
    },
    {
      "cell_type": "code",
      "metadata": {
        "colab": {
          "base_uri": "https://localhost:8080/"
        },
        "id": "BLbOQCyOIwsq",
        "outputId": "b3fc5705-7d1b-432e-98c7-9b2c56c1dbdf"
      },
      "source": [
        "permissoes = []\r\n",
        "idades = [20, 14, 40]\r\n",
        "\r\n",
        "def verifica_se_pode_dirigir(idades, permissoes):\r\n",
        "  for idade in idades: \r\n",
        "    if idade >= 18: \r\n",
        "      permissoes.append(True)\r\n",
        "    else:\r\n",
        "      permissoes.append(False)\r\n",
        "\r\n",
        "verifica_se_pode_dirigir(idades, permissoes)\r\n",
        "permissoes"
      ],
      "execution_count": null,
      "outputs": [
        {
          "output_type": "execute_result",
          "data": {
            "text/plain": [
              "[True, False, True]"
            ]
          },
          "metadata": {
            "tags": []
          },
          "execution_count": 16
        }
      ]
    },
    {
      "cell_type": "code",
      "metadata": {
        "colab": {
          "base_uri": "https://localhost:8080/"
        },
        "id": "PlQpkW-HJ7FA",
        "outputId": "f7c077a3-7f82-4dbf-89ca-c9f05d84fd1b"
      },
      "source": [
        "for permissoes in permissoes: \r\n",
        "  if permissoes == True:\r\n",
        "    print('Tem permissão para dirigir!')\r\n",
        "  else: \r\n",
        "    print('Não term permissão para dirigir!')"
      ],
      "execution_count": null,
      "outputs": [
        {
          "output_type": "stream",
          "text": [
            "Tem permissão para dirigir!\n",
            "Não term permissão para dirigir!\n",
            "Tem permissão para dirigir!\n"
          ],
          "name": "stdout"
        }
      ]
    },
    {
      "cell_type": "code",
      "metadata": {
        "colab": {
          "base_uri": "https://localhost:8080/"
        },
        "id": "uWRjl76_KjYd",
        "outputId": "621ce6f0-fff5-4077-c743-ee2db5c9a682"
      },
      "source": [
        "a=2\r\n",
        "\r\n",
        "if a < 2:\r\n",
        " a = a + 1\r\n",
        "else:\r\n",
        " a = a + 2\r\n",
        "if a < 4:\r\n",
        " a = a - 4\r\n",
        "else:\r\n",
        " a = a + 6\r\n",
        "\r\n",
        "a"
      ],
      "execution_count": null,
      "outputs": [
        {
          "output_type": "execute_result",
          "data": {
            "text/plain": [
              "10"
            ]
          },
          "metadata": {
            "tags": []
          },
          "execution_count": 18
        }
      ]
    },
    {
      "cell_type": "markdown",
      "metadata": {
        "id": "dMKYPPN4LiB2"
      },
      "source": [
        "**Imports e Tipos em lista**"
      ]
    },
    {
      "cell_type": "code",
      "metadata": {
        "colab": {
          "base_uri": "https://localhost:8080/"
        },
        "id": "ixBw40PGLOa-",
        "outputId": "e2c45692-8bb2-4830-dd51-7477cfd117b8"
      },
      "source": [
        "lista =  ['Rafael', 25, True, '25']\r\n",
        "\r\n",
        "for elemento in lista:\r\n",
        "  print(f'O elemento {elemento} é do tipo ',type(elemento))"
      ],
      "execution_count": null,
      "outputs": [
        {
          "output_type": "stream",
          "text": [
            "O elemento Rafael é do tipo  <class 'str'>\n",
            "O elemento 25 é do tipo  <class 'int'>\n",
            "O elemento True é do tipo  <class 'bool'>\n",
            "O elemento 25 é do tipo  <class 'str'>\n"
          ],
          "name": "stdout"
        }
      ]
    },
    {
      "cell_type": "code",
      "metadata": {
        "colab": {
          "base_uri": "https://localhost:8080/"
        },
        "id": "tEQLLwPYMfpT",
        "outputId": "804a2c2d-810d-4be2-b690-b53da999b203"
      },
      "source": [
        "from random import randrange\r\n",
        "\r\n",
        "randrange(0,11)"
      ],
      "execution_count": null,
      "outputs": [
        {
          "output_type": "execute_result",
          "data": {
            "text/plain": [
              "0"
            ]
          },
          "metadata": {
            "tags": []
          },
          "execution_count": 21
        }
      ]
    },
    {
      "cell_type": "code",
      "metadata": {
        "colab": {
          "base_uri": "https://localhost:8080/"
        },
        "id": "c9ZSDoeKN664",
        "outputId": "a1df7f45-fbd5-4ac3-b3ad-7865f4df043e"
      },
      "source": [
        "notas_matematicas = []\r\n",
        "\r\n",
        "for notas in range(8):\r\n",
        "  notas_matematicas.append(randrange(0,11))\r\n",
        "\r\n",
        "notas_matematicas"
      ],
      "execution_count": null,
      "outputs": [
        {
          "output_type": "execute_result",
          "data": {
            "text/plain": [
              "[8, 10, 5, 2, 10, 0, 9, 9]"
            ]
          },
          "metadata": {
            "tags": []
          },
          "execution_count": 22
        }
      ]
    },
    {
      "cell_type": "code",
      "metadata": {
        "colab": {
          "base_uri": "https://localhost:8080/"
        },
        "id": "YrWPE0HaOV5p",
        "outputId": "2b06314e-dfdc-42c9-edad-35c949103147"
      },
      "source": [
        "len(notas_matematicas) #Retornou a quantidade que declaramos no range. "
      ],
      "execution_count": null,
      "outputs": [
        {
          "output_type": "execute_result",
          "data": {
            "text/plain": [
              "8"
            ]
          },
          "metadata": {
            "tags": []
          },
          "execution_count": 23
        }
      ]
    },
    {
      "cell_type": "markdown",
      "metadata": {
        "id": "WQeDC3UrPkIa"
      },
      "source": [
        "O pacote **Random** gera pseudos números aleatórios. Há uma explicação para esse aspcto pseudo da aleatoriedade.\r\n",
        "\r\n",
        "<iframe width=\"1004\" height=\"565\" src=\"https://www.youtube.com/embed/LqXnpIn2Uxs\" frameborder=\"0\" allow=\"accelerometer; autoplay; clipboard-write; encrypted-media; gyroscope; picture-in-picture\" allowfullscreen></iframe>\r\n",
        "\r\n",
        "Computadores não conseguem gerar números aleatórios, e isso pode ser problemático no mundo moderno. Esse vídeo ensina um pouco sobre como computadores funcionam e como podemos gerar números verdadeiramente aleatórios usando eles."
      ]
    },
    {
      "cell_type": "markdown",
      "metadata": {
        "id": "JrmxKM8PSOzz"
      },
      "source": [
        "**Plotando gráficos com Matplotlib**"
      ]
    },
    {
      "cell_type": "code",
      "metadata": {
        "id": "_keGRLyqOa12"
      },
      "source": [
        "import matplotlib.pyplot as plt"
      ],
      "execution_count": null,
      "outputs": []
    },
    {
      "cell_type": "code",
      "metadata": {
        "id": "YojNq8fPSt_6"
      },
      "source": [
        "x = list(range(1, 9))\r\n",
        "y = notas_matematicas"
      ],
      "execution_count": null,
      "outputs": []
    },
    {
      "cell_type": "code",
      "metadata": {
        "colab": {
          "base_uri": "https://localhost:8080/",
          "height": 295
        },
        "id": "HP8dv5DGTN7m",
        "outputId": "f9b79a54-b8e3-4884-c620-a74318b1b136"
      },
      "source": [
        "plt.plot(x,y, marker= 'o')\r\n",
        "plt.title('Notas de Matemática')\r\n",
        "plt.xlabel('Provas')\r\n",
        "plt.ylabel('Notas')\r\n",
        "plt.show()"
      ],
      "execution_count": null,
      "outputs": [
        {
          "output_type": "display_data",
          "data": {
            "image/png": "[encoded data removed]",
            "text/plain": [
              "<Figure size 432x288 with 1 Axes>"
            ]
          },
          "metadata": {
            "tags": [],
            "needs_background": "light"
          }
        }
      ]
    },
    {
      "cell_type": "code",
      "metadata": {
        "id": "OJmSOxpkTbvh"
      },
      "source": [
        "notas_matematica = ['Matemática',8,7,6,6,7,7,8,10]\r\n",
        "notas_portugues = ['Português',9,9,9,8,5,6,8,5]\r\n",
        "notas_geografia = ['Geografia',10,10,6,7,7,7,8,7]\r\n",
        "\r\n",
        "notas = [notas_matematica, notas_portugues, notas_geografia]"
      ],
      "execution_count": null,
      "outputs": []
    },
    {
      "cell_type": "code",
      "metadata": {
        "colab": {
          "base_uri": "https://localhost:8080/",
          "height": 851
        },
        "id": "xyF3MNJBVAkE",
        "outputId": "6bc5c614-db64-4a61-ca22-38340befaa16"
      },
      "source": [
        "for nota in notas: #Garante que seja criado o gráfico para cada materia. \r\n",
        " x = list(range(1, 9)) #Cria as provas. \r\n",
        " y = nota[1:] #Indenta a partir das notas na lista. \r\n",
        " plt.plot(x, y, marker='o') #Desenha o gráfico. \r\n",
        " #Insere as legendas. \r\n",
        " plt.xlabel('Provas')\r\n",
        " plt.ylabel('Notas')\r\n",
        " plt.title(nota[0]) #Indenta o título a partir da matéria na lista. \r\n",
        " plt.show()"
      ],
      "execution_count": null,
      "outputs": [
        {
          "output_type": "display_data",
          "data": {
            "image/png": "[encoded data removed]",
            "text/plain": [
              "<Figure size 432x288 with 1 Axes>"
            ]
          },
          "metadata": {
            "tags": [],
            "needs_background": "light"
          }
        },
        {
          "output_type": "display_data",
          "data": {
            "image/png": "[encoded data removed]",
            "text/plain": [
              "<Figure size 432x288 with 1 Axes>"
            ]
          },
          "metadata": {
            "tags": [],
            "needs_background": "light"
          }
        },
        {
          "output_type": "display_data",
          "data": {
            "image/png": "[encoded data removed]",
            "text/plain": [
              "<Figure size 432x288 with 1 Axes>"
            ]
          },
          "metadata": {
            "tags": [],
            "needs_background": "light"
          }
        }
      ]
    },
    {
      "cell_type": "code",
      "metadata": {
        "id": "TbQGVVNlVKmt"
      },
      "source": [
        ""
      ],
      "execution_count": null,
      "outputs": []
    }
  ]
}