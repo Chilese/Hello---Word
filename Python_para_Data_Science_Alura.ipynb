{
  "nbformat": 4,
  "nbformat_minor": 0,
  "metadata": {
    "colab": {
      "name": "Python para Data Science -  Alura",
      "provenance": [],
      "authorship_tag": "ABX9TyOSajjdwObn0CacM7g4vlEP",
      "include_colab_link": true
    },
    "kernelspec": {
      "name": "python3",
      "display_name": "Python 3"
    }
  },
  "cells": [
    {
      "cell_type": "markdown",
      "metadata": {
        "id": "view-in-github",
        "colab_type": "text"
      },
      "source": [
        "<a href=\"https://colab.research.google.com/github/Chilese/Hello-Word/blob/main/Python_para_Data_Science_Alura.ipynb\" target=\"_parent\"><img src=\"https://colab.research.google.com/assets/colab-badge.svg\" alt=\"Open In Colab\"/></a>"
      ]
    },
    {
      "cell_type": "markdown",
      "metadata": {
        "id": "oxPE_416wgiE"
      },
      "source": [
        "# **Breve história da linguagem**\r\n",
        "\r\n",
        "Python foi criada em 1990 por Guido Van Rossum no Centro de Matemática Stichting na Holanda como uma sucessora da linguagem ABC. Guido é lembrado como o principal autor de Python mas outros programadores ajudaram com muitas contribuições.\r\n",
        "\r\n",
        "A linguagem ABC foi desenhada para uso de não programadores, mas logo de início mostrou certas limitações e restrições. A maior reclamação dos primeiros alunos não programadores dessa linguagem era a presença de regras arbitrárias que as linguagens de programação haviam estabelecido tradicionalmente - muita coisa de baixo nível ainda era feita e não agradou o público.\r\n",
        "\r\n",
        "Guido então se lançou na tarefa de criar uma linguagem de script simples que possuísse algumas das melhores propriedades da ABC. Listas Python, dicionários, declarações básicas e uso obrigatório de indentação - conceitos que aprenderemos neste curso - diferenciam Python da linguagem ABC.\r\n",
        "\r\n",
        "Você provavelmente já ouviu ou leu em algum lugar que Python é uma linguagem interpretada ou uma linguagem de script. Em certo sentido, também é verdade que Python é tanto uma linguagem interpretada quanto uma linguagem compilada. Um compilador traduz linguagem Python em linguagem de máquina - código Python é traduzido em um código intermediário que deve ser executado por uma máquina virtual conhecida como PVM (Python Virtual Machine).\r\n",
        "\r\n",
        "O interpretador faz esta 'tradução' em tempo real para código de máquina, ou seja, em tempo de execução. Já o compilador traduz o programa inteiro em código de máquina de uma só vez e então o executa, criando um arquivo que pode ser rodado (executável). O compilador gera um relatório de erros (casos eles existam) e o interpretador interrompe a tradução quando encontra um primeiro erro."
      ]
    },
    {
      "cell_type": "markdown",
      "metadata": {
        "id": "kYCzacJTwqkf"
      },
      "source": [
        "**Variável e Função**"
      ]
    },
    {
      "cell_type": "code",
      "metadata": {
        "colab": {
          "base_uri": "https://localhost:8080/",
          "height": 35
        },
        "id": "fKUsVGGNo79j",
        "outputId": "65ac9287-2ec0-4530-94c4-0695e0282ae6"
      },
      "source": [
        "#Quando eu quero armazenar um a informação na memória do computador, eu o faço usando uma variável. \r\n",
        "nome =  'Rafael'\r\n",
        "idade =  '25'\r\n",
        "#Há um registro na memória que confirma, o conteúdo de nome é 'Rafael'. \r\n",
        "nome"
      ],
      "execution_count": 3,
      "outputs": [
        {
          "output_type": "execute_result",
          "data": {
            "application/vnd.google.colaboratory.intrinsic+json": {
              "type": "string"
            },
            "text/plain": [
              "'Rafael'"
            ]
          },
          "metadata": {
            "tags": []
          },
          "execution_count": 3
        }
      ]
    },
    {
      "cell_type": "code",
      "metadata": {
        "colab": {
          "base_uri": "https://localhost:8080/"
        },
        "id": "l6vGIGgHq6Ig",
        "outputId": "b9c0556e-c11a-4505-95d0-07460b68046c"
      },
      "source": [
        "#É possível retornar essas variáveis através de função. \r\n",
        "print(f'Meu é {nome} e minha idade é {idade} anos!')"
      ],
      "execution_count": 6,
      "outputs": [
        {
          "output_type": "stream",
          "text": [
            "Meu é Rafael e minha idade é 25 anos!\n"
          ],
          "name": "stdout"
        }
      ]
    },
    {
      "cell_type": "code",
      "metadata": {
        "colab": {
          "base_uri": "https://localhost:8080/"
        },
        "id": "dfmN5HXzrzRf",
        "outputId": "294b7339-7be9-4977-a736-7608591e259e"
      },
      "source": [
        "#Usando def é possível criar uma função. \r\n",
        "def saudacao():\r\n",
        "  nome = input('Qual é o seu nome? ')\r\n",
        "  print(f'Olá, {nome}!')\r\n",
        "\r\n",
        "saudacao()"
      ],
      "execution_count": 13,
      "outputs": [
        {
          "output_type": "stream",
          "text": [
            "Qual é o seu nome? Rafael Chilese\n",
            "Olá, Rafael Chilese!\n"
          ],
          "name": "stdout"
        }
      ]
    },
    {
      "cell_type": "code",
      "metadata": {
        "colab": {
          "base_uri": "https://localhost:8080/"
        },
        "id": "aUYd_fJav_xN",
        "outputId": "01dc4168-51fc-4d1d-e962-960625f3fce5"
      },
      "source": [
        "def nome_completo():\r\n",
        " primeiro_nome = input('Qual seu primeiro nome? ')\r\n",
        " sobrenome = input('Qual seu sobrenome? ')\r\n",
        " nome_inteiro = primeiro_nome + ' ' + sobrenome\r\n",
        " print(nome_inteiro)\r\n",
        "\r\n",
        "nome_completo()"
      ],
      "execution_count": 14,
      "outputs": [
        {
          "output_type": "stream",
          "text": [
            "Qual seu primeiro nome? Rafael\n",
            "Qual seu sobrenome? Chilese\n",
            "Rafael Chilese\n"
          ],
          "name": "stdout"
        }
      ]
    },
    {
      "cell_type": "markdown",
      "metadata": {
        "id": "xgpvkP4HwzSX"
      },
      "source": [
        "**Linguagem de auto nível**\r\n",
        "\r\n",
        "Python é considerada uma linguagem de auto nível por conta da sua próximidade com a linguagem humana. A sintaxe desse tipo de linguagem é muito próxima da sintaxe da lingua de quem a programou. \r\n",
        "\r\n",
        "Por outro lado, se perde em desempenho, uma vez que a linguagem é interpretada. Entre aquilo que o programador declara e o que é printado em tela, há a interpretação da máquina. "
      ]
    },
    {
      "cell_type": "markdown",
      "metadata": {
        "id": "KSCFC3K34M5_"
      },
      "source": [
        "**Parâmetros e Conversão de tipos**"
      ]
    },
    {
      "cell_type": "code",
      "metadata": {
        "colab": {
          "base_uri": "https://localhost:8080/"
        },
        "id": "t9IJwbKewCvg",
        "outputId": "b66e735b-110a-40d8-a06c-d8b562806976"
      },
      "source": [
        "# Há a possibilidade de se contruir funções com parametros: \r\n",
        "\r\n",
        "def saudacao_com_parametro(nome_da_pessoa):\r\n",
        "  print(f'Olá, {nome_da_pessoa} !')\r\n",
        "\r\n",
        "saudacao_com_parametro(nome) # A função exige o \"nome_da_pessoa\". "
      ],
      "execution_count": 20,
      "outputs": [
        {
          "output_type": "stream",
          "text": [
            "Olá, Rafael !\n"
          ],
          "name": "stdout"
        }
      ]
    },
    {
      "cell_type": "code",
      "metadata": {
        "colab": {
          "base_uri": "https://localhost:8080/"
        },
        "id": "IlZSJv2YyIDT",
        "outputId": "68081fe8-527c-4aeb-bb2b-5e4defc1c934"
      },
      "source": [
        "# Há também a possibilidade de se construir condicionais nessas funções: \r\n",
        "idade = 20\r\n",
        "\r\n",
        "def verifica_se_pode_dirigir(idade):\r\n",
        "  if idade >= 18:\r\n",
        "    print ('Tem permissão para dirigir!')\r\n",
        "  else:\r\n",
        "    print ('Você não tem idade para dirigir!')\r\n",
        "\r\n",
        "verifica_se_pode_dirigir(idade)\r\n"
      ],
      "execution_count": 24,
      "outputs": [
        {
          "output_type": "stream",
          "text": [
            "Tem permissão para dirigir!\n"
          ],
          "name": "stdout"
        }
      ]
    },
    {
      "cell_type": "code",
      "metadata": {
        "colab": {
          "base_uri": "https://localhost:8080/"
        },
        "id": "VxSbSqI50GBt",
        "outputId": "0cc3f0bd-255b-4176-bd57-9a60b06bf3f4"
      },
      "source": [
        "# Construir condicionais sem os parametros. \r\n",
        "\r\n",
        "def verifica_se_pode_dirigir_sem( ):\r\n",
        "  idade = input('Qual a sua idade? ')\r\n",
        "  idade = int(idade) # Há a necessidade de garantir que o valor será declarado como int e não como str. \r\n",
        "\r\n",
        "  if idade >= 18:\r\n",
        "    print ('Tem permissão para dirigir!')\r\n",
        "  else:\r\n",
        "    print ('Você não tem idade para dirigir!')\r\n",
        "\r\n",
        "verifica_se_pode_dirigir_sem()"
      ],
      "execution_count": 27,
      "outputs": [
        {
          "output_type": "stream",
          "text": [
            "Qual a sua idade? 10\n",
            "Você não tem idade para dirigir!\n"
          ],
          "name": "stdout"
        }
      ]
    },
    {
      "cell_type": "markdown",
      "metadata": {
        "id": "G-5cJg8K4eCw"
      },
      "source": [
        "**Listas, Repetições e Tipos Boleanos**"
      ]
    },
    {
      "cell_type": "code",
      "metadata": {
        "colab": {
          "base_uri": "https://localhost:8080/"
        },
        "id": "K4dgqPlT1QWU",
        "outputId": "3f9df803-0bca-4266-8fa0-08b338d303b8"
      },
      "source": [
        "lista_nome = ['Rafael', 'Antonio', 'Chilese']\r\n",
        "type(lista_nome) # Passa a palavra reservada na função type e confirma. "
      ],
      "execution_count": 29,
      "outputs": [
        {
          "output_type": "execute_result",
          "data": {
            "text/plain": [
              "list"
            ]
          },
          "metadata": {
            "tags": []
          },
          "execution_count": 29
        }
      ]
    },
    {
      "cell_type": "code",
      "metadata": {
        "colab": {
          "base_uri": "https://localhost:8080/",
          "height": 35
        },
        "id": "4-jRyIg95qi3",
        "outputId": "8d4f0675-2cd0-4a19-fde8-8c927671c336"
      },
      "source": [
        "# Para chamar um valor na lista, declaro seu indice. \r\n",
        "# Em Python, os valores são indexados a partir de 0. \r\n",
        "\r\n",
        "# Para retornar meu sobrenome: \r\n",
        "lista_nome[2]"
      ],
      "execution_count": 30,
      "outputs": [
        {
          "output_type": "execute_result",
          "data": {
            "application/vnd.google.colaboratory.intrinsic+json": {
              "type": "string"
            },
            "text/plain": [
              "'Chilese'"
            ]
          },
          "metadata": {
            "tags": []
          },
          "execution_count": 30
        }
      ]
    },
    {
      "cell_type": "code",
      "metadata": {
        "id": "atDrU9Dh6QRV"
      },
      "source": [
        ""
      ],
      "execution_count": null,
      "outputs": []
    }
  ]
}